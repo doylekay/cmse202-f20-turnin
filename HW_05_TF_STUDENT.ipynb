{
  "nbformat": 4,
  "nbformat_minor": 0,
  "metadata": {
    "kernelspec": {
      "display_name": "Python 3",
      "language": "python",
      "name": "python3"
    },
    "language_info": {
      "codemirror_mode": {
        "name": "ipython",
        "version": 3
      },
      "file_extension": ".py",
      "mimetype": "text/x-python",
      "name": "python",
      "nbconvert_exporter": "python",
      "pygments_lexer": "ipython3",
      "version": "3.7.1"
    },
    "colab": {
      "name": "HW-05_TF-STUDENT.ipynb",
      "provenance": [],
      "collapsed_sections": [],
      "include_colab_link": true
    }
  },
  "cells": [
    {
      "cell_type": "markdown",
      "metadata": {
        "id": "view-in-github",
        "colab_type": "text"
      },
      "source": [
        "<a href=\"https://colab.research.google.com/github/doylekay/cmse202-f20-turnin/blob/master/HW_05_TF_STUDENT.ipynb\" target=\"_parent\"><img src=\"https://colab.research.google.com/assets/colab-badge.svg\" alt=\"Open In Colab\"/></a>"
      ]
    },
    {
      "cell_type": "markdown",
      "metadata": {
        "id": "CN--6VVyYnQ0"
      },
      "source": [
        "### <p style=\"text-align: right;\"> &#9989; Kaylen Doyle</p>"
      ]
    },
    {
      "cell_type": "markdown",
      "metadata": {
        "id": "jIehdW2BYnQ0"
      },
      "source": [
        "# CMSE Homework 05\n",
        "\n",
        "## Using Tensorflow/Keras for classification\n",
        "\n",
        "\n",
        "### Assignment instructions\n",
        "\n",
        "Work through the following assignment, making sure to follow all of the directions and answer all of the questions.\n",
        "\n",
        "There are 25 points possible on this assignment. Point values for each part are included in the section headers.\n",
        "\n",
        "This assignment is due roughly two weeks from now at 11:59 pm on **Friday Dec. 4th**. It should be uploaded into the \"Homework Assignments\" submission folder for Homework #5 in your D2L webpage. Submission instructions can be found at the end of the notebook.\n",
        "\n",
        "**Hint**: It is possible you are asked to do something you are not familiar with. That's why you have internet access. Do some smart searches and see what you can find! \n",
        "\n",
        "### Goals for this homework assignment\n",
        "\n",
        "The goal for this assignment is for you to learn about neural network implemented by __Tensorflow__ and __Keras__ to do some basic classification tasks. Unless you already have experience with Tensorflow or Keras or similar libraries, you will not understand everything about this right away. You probably haven't even installed Tensorflow yet. Don't worry, that is perfectly fine. We will walk through one example in detail. So don't worry if some steps seem arbitrary or look like magic to you! We've got to start somewhere.\n",
        "\n",
        "[Tensorflow](https://www.tensorflow.org/) is a free and open-source software library for machine learning. It is one of the most popular software package for training and inference of deep neural networks. [Keras](https://keras.io/) is the high-level API of TensorFlow 2.0. \n",
        "\n",
        "\n",
        "To get started, you need to set up the required software. You can follow the detailed instruction from the [installation guide of Tensorflow](https://www.tensorflow.org/install) which also includes Keras. In most cases, you can simply type\n",
        "\n",
        "`pip install --upgrade tensorflow`\n",
        "\n",
        "Now you are ready for action!\n",
        "\n",
        "__Note__ Following the installation guide, you should have installed Tensorflow V2.3.1, and   Numpy should be downgraded to V1.18.5. If you have trouble with installation or you run into issues with dead kernels, please check the versions of the packages installed and asked for help during help hours!\n",
        "\n",
        "Below is the import for this assignement."
      ]
    },
    {
      "cell_type": "code",
      "metadata": {
        "id": "sJO_oyOLYnQ1"
      },
      "source": [
        "## Our import\n",
        "\n",
        "import tensorflow as tf\n",
        "from tensorflow.keras.datasets import fashion_mnist\n",
        "from tensorflow.keras.datasets import mnist\n",
        "from tensorflow.keras.models import Sequential\n",
        "from tensorflow.keras.layers import Dense\n",
        "from tensorflow.keras.utils import to_categorical\n",
        "\n",
        "import numpy as np\n",
        "import pandas as pd\n",
        "import matplotlib.pyplot as plt\n",
        "%matplotlib inline\n",
        "\n"
      ],
      "execution_count": 2,
      "outputs": []
    },
    {
      "cell_type": "markdown",
      "metadata": {
        "id": "3g9fW__5YnQ4"
      },
      "source": [
        "---\n",
        "## Part 1. Adding notebook to your turn-in repository\n",
        "\n",
        "Like you did for Homework 3, you're going to add it to the CMSE202 repository you created in class so that you can track your progress on the assignment and preserve the final version that you turn in. In order to do this you need to:\n",
        "\n",
        "* Navigate to your /CMSE202/repos repository and create a new directory called hw-05.\n",
        "* Move this notebook into that new directory in your repository, then add it and commit it to your repository.\n",
        "   * Finally, to test that everything is working, \"git push\" the file so that it ends up in your GitHub repository.\n",
        "\n",
        "Important: Make sure you've added your TA as a collaborators to your respository with \"Read\" access so that we can see your assignment. (*If you did this for Homework 3, you do not need to do it again*)\n",
        "\n",
        "* Section 001: tuethan\n",
        "* Section 002: Luis-Polanco\n",
        "* Section 003: DavidRimel\n",
        "\n",
        "Also important: Make sure that the version of this notebook that you are working on is the same one that you just added to your repository! If you are working on a different copy of the notebook, none of your changes will be tracked.\n",
        "\n",
        "If everything went as intended, the file should now show up on your GitHub account CMSE202 repository under the hw-04 directory that you just created. Periodically, you'll be asked to commit your changes to the repository and push them to the remote GitHub location. Of course, you can always commit your changes more often than that, if you wish. It can be good to get into a habit of committing your changes any time you make a significant modification, or when you stop working on the project for a bit."
      ]
    },
    {
      "cell_type": "markdown",
      "metadata": {
        "id": "lmVob1JJYnQ4"
      },
      "source": [
        "## Part 2: Classifying MNIST data (6 points)\n",
        "\n",
        "\n",
        "We will now walk through a concrete example of a neural network, which makes use of  Keras to learn to classify hand-written digits.\n",
        "\n",
        "The problem we are trying to solve here is to classify grayscale images of handwritten digits (28 pixels by 28 pixels), into their 10 \n",
        "categories (0 to 9). The dataset we will use is the MNIST dataset, a classic dataset in the machine learning community, which has been \n",
        "around for almost as long as the field itself and has been very intensively studied. It's a set of 60,000 training images, plus 10,000 test \n",
        "images, assembled by the National Institute of Standards and Technology (the NIST in MNIST) in the 1980s. You can think of \"solving\" MNIST \n",
        "as the \"Hello World\" of deep learning -- it's what you do to verify that your algorithms are working as expected. As you become a machine \n",
        "learning practitioner, you will see MNIST come up over and over again, in scientific papers, blog posts, and so on.\n",
        "\n",
        "The MNIST dataset comes pre-loaded in Keras, in the form of a set of four Numpy arrays:\n",
        "\n"
      ]
    },
    {
      "cell_type": "code",
      "metadata": {
        "id": "rUvWMKhpYnQ4"
      },
      "source": [
        "(train_images, train_labels), (test_images, test_labels)=mnist.load_data()"
      ],
      "execution_count": 4,
      "outputs": []
    },
    {
      "cell_type": "markdown",
      "metadata": {
        "id": "Kq3AEMbSYnQ4"
      },
      "source": [
        "`train_images` and `train_labels` form the \"training set\", the data that the model will learn from. The model will then be tested on the \n",
        "\"test set\", `test_images` and `test_labels`. Our images are encoded as Numpy arrays, and the labels are simply an array of digits, ranging \n",
        "from 0 to 9. There is a one-to-one correspondence between the images and the labels.\n",
        "\n",
        "Let's have a look at the training data:"
      ]
    },
    {
      "cell_type": "code",
      "metadata": {
        "colab": {
          "base_uri": "https://localhost:8080/"
        },
        "id": "foHYcETGYnQ4",
        "outputId": "dd8a1ede-1010-42d9-f8d8-9fda48bebda4"
      },
      "source": [
        "train_images.shape\n"
      ],
      "execution_count": 5,
      "outputs": [
        {
          "output_type": "execute_result",
          "data": {
            "text/plain": [
              "(60000, 28, 28)"
            ]
          },
          "metadata": {
            "tags": []
          },
          "execution_count": 5
        }
      ]
    },
    {
      "cell_type": "code",
      "metadata": {
        "scrolled": true,
        "colab": {
          "base_uri": "https://localhost:8080/"
        },
        "id": "d7HlBWqwYnQ4",
        "outputId": "3561c8fe-27bd-49c4-d2ad-fcdf588aa10c"
      },
      "source": [
        "len(train_labels)"
      ],
      "execution_count": 6,
      "outputs": [
        {
          "output_type": "execute_result",
          "data": {
            "text/plain": [
              "60000"
            ]
          },
          "metadata": {
            "tags": []
          },
          "execution_count": 6
        }
      ]
    },
    {
      "cell_type": "code",
      "metadata": {
        "colab": {
          "base_uri": "https://localhost:8080/"
        },
        "id": "AsTOKarXYnQ4",
        "outputId": "c3572094-548d-4ed4-9a21-2e7730694cfc"
      },
      "source": [
        "train_labels"
      ],
      "execution_count": 7,
      "outputs": [
        {
          "output_type": "execute_result",
          "data": {
            "text/plain": [
              "array([5, 0, 4, ..., 5, 6, 8], dtype=uint8)"
            ]
          },
          "metadata": {
            "tags": []
          },
          "execution_count": 7
        }
      ]
    },
    {
      "cell_type": "markdown",
      "metadata": {
        "id": "1AsJLwjLYnQ5"
      },
      "source": [
        "Let's have a look at the test data:"
      ]
    },
    {
      "cell_type": "code",
      "metadata": {
        "colab": {
          "base_uri": "https://localhost:8080/"
        },
        "id": "_wBJQ3pSYnQ5",
        "outputId": "7a2f044e-95a9-4669-e6c2-97722c57ab4d"
      },
      "source": [
        "test_images.shape"
      ],
      "execution_count": 8,
      "outputs": [
        {
          "output_type": "execute_result",
          "data": {
            "text/plain": [
              "(10000, 28, 28)"
            ]
          },
          "metadata": {
            "tags": []
          },
          "execution_count": 8
        }
      ]
    },
    {
      "cell_type": "code",
      "metadata": {
        "colab": {
          "base_uri": "https://localhost:8080/"
        },
        "id": "-27cjj6hYnQ5",
        "outputId": "43ba17a8-8b20-4b33-dec6-646b630fbb13"
      },
      "source": [
        "len(test_labels)"
      ],
      "execution_count": 9,
      "outputs": [
        {
          "output_type": "execute_result",
          "data": {
            "text/plain": [
              "10000"
            ]
          },
          "metadata": {
            "tags": []
          },
          "execution_count": 9
        }
      ]
    },
    {
      "cell_type": "code",
      "metadata": {
        "colab": {
          "base_uri": "https://localhost:8080/"
        },
        "id": "LRhzvWaMYnQ5",
        "outputId": "4611077e-ff87-4e94-a338-59ee8a72f0ef"
      },
      "source": [
        "test_labels"
      ],
      "execution_count": 10,
      "outputs": [
        {
          "output_type": "execute_result",
          "data": {
            "text/plain": [
              "array([7, 2, 1, ..., 4, 5, 6], dtype=uint8)"
            ]
          },
          "metadata": {
            "tags": []
          },
          "execution_count": 10
        }
      ]
    },
    {
      "cell_type": "markdown",
      "metadata": {
        "id": "EzDHRzVDYnQ5"
      },
      "source": [
        "**Question 2.1 (1 points)** What is the size of the training and testing dataset for MNIST, respectively?"
      ]
    },
    {
      "cell_type": "markdown",
      "metadata": {
        "id": "eZQ2oS1BYnQ5"
      },
      "source": [
        "<font size=8 color=\"#009600\">&#9998;</font> The training dataset is 60,000 entries of 28x28 arrays. The testing dataset is 10,000 28x28 arrays. "
      ]
    },
    {
      "cell_type": "markdown",
      "metadata": {
        "id": "STVY8u31YnQ5"
      },
      "source": [
        "**Question 2.2 (2 points)** Make a histogram for the training label. Is this dataset balanced?"
      ]
    },
    {
      "cell_type": "code",
      "metadata": {
        "colab": {
          "base_uri": "https://localhost:8080/",
          "height": 333
        },
        "id": "LeQaHL8JYnQ5",
        "outputId": "fc37556c-e880-43d0-9fa6-45e1339c889f"
      },
      "source": [
        "### Put your code here ###\n",
        "plt.hist(train_labels)"
      ],
      "execution_count": 11,
      "outputs": [
        {
          "output_type": "execute_result",
          "data": {
            "text/plain": [
              "(array([5923., 6742., 5958., 6131., 5842., 5421., 5918., 6265., 5851.,\n",
              "        5949.]),\n",
              " array([0. , 0.9, 1.8, 2.7, 3.6, 4.5, 5.4, 6.3, 7.2, 8.1, 9. ]),\n",
              " <a list of 10 Patch objects>)"
            ]
          },
          "metadata": {
            "tags": []
          },
          "execution_count": 11
        },
        {
          "output_type": "display_data",
          "data": {
            "image/png": "[encoded data removed]",
            "text/plain": [
              "<Figure size 432x288 with 1 Axes>"
            ]
          },
          "metadata": {
            "tags": [],
            "needs_background": "light"
          }
        }
      ]
    },
    {
      "cell_type": "markdown",
      "metadata": {
        "id": "NVjONoIUYnQ5"
      },
      "source": [
        "We can also take a look at the individual images."
      ]
    },
    {
      "cell_type": "code",
      "metadata": {
        "colab": {
          "base_uri": "https://localhost:8080/",
          "height": 282
        },
        "id": "cVpaJj6jYnQ5",
        "outputId": "bf72a794-992f-471e-8965-17e89411aa00"
      },
      "source": [
        "digit = train_images[6]\n",
        "plt.imshow(digit, cmap=plt.cm.binary)\n",
        "train_labels[6]"
      ],
      "execution_count": 12,
      "outputs": [
        {
          "output_type": "execute_result",
          "data": {
            "text/plain": [
              "1"
            ]
          },
          "metadata": {
            "tags": []
          },
          "execution_count": 12
        },
        {
          "output_type": "display_data",
          "data": {
            "image/png": "[encoded data removed]",
            "text/plain": [
              "<Figure size 432x288 with 1 Axes>"
            ]
          },
          "metadata": {
            "tags": [],
            "needs_background": "light"
          }
        }
      ]
    },
    {
      "cell_type": "markdown",
      "metadata": {
        "id": "JSuDFJ8iYnQ5"
      },
      "source": [
        "\n",
        "Before training, we will preprocess our data by reshaping it into the shape that the network expects, and scaling it so that all values are in \n",
        "the `[0, 1]` interval. Previously, our training images for instance were stored in an array of shape `(60000, 28, 28)` of type `uint8` with \n",
        "values in the `[0, 255]` interval. We transform it into a `float32` array of shape `(60000, 28 * 28)` with values between 0 and 1."
      ]
    },
    {
      "cell_type": "code",
      "metadata": {
        "id": "1jlyTROMYnQ5"
      },
      "source": [
        "train_images = train_images.reshape(train_images.shape[0],-1)/255.0\n",
        "test_images = test_images.reshape(test_images.shape[0],-1)/255.0"
      ],
      "execution_count": 13,
      "outputs": []
    },
    {
      "cell_type": "markdown",
      "metadata": {
        "id": "fOzTWl40YnQ5"
      },
      "source": [
        "We also need to categorically encode the labels."
      ]
    },
    {
      "cell_type": "code",
      "metadata": {
        "id": "r7xG3SLfYnQ5"
      },
      "source": [
        "train_labels = to_categorical(train_labels)\n",
        "test_labels = to_categorical(test_labels)"
      ],
      "execution_count": 14,
      "outputs": []
    },
    {
      "cell_type": "markdown",
      "metadata": {
        "id": "zqyPzmRuYnQ5"
      },
      "source": [
        "Let’s start our neural network models.\n",
        "\n",
        "\n",
        "\n",
        "<img src=\"https://miro.medium.com/max/1400/1*K0D3JOZJUTxX4Q-9CpiALw.jpeg\" width= 800><p style=\"text-align: right;\">\n",
        "\n"
      ]
    },
    {
      "cell_type": "markdown",
      "metadata": {
        "id": "eLMfcR1KYnQ5"
      },
      "source": [
        "Our workflow will be as follow: first we will present our neural network with the training data, `train_images` and `train_labels`. The \n",
        "network will then learn to associate images and labels. Finally, we will ask the network to produce predictions for `test_images`, and we \n",
        "will verify if these predictions match the labels from `test_labels`.\n",
        "\n",
        "Let's build our network.\n",
        "\n"
      ]
    },
    {
      "cell_type": "code",
      "metadata": {
        "id": "6TLvu5NeYnQ5"
      },
      "source": [
        "network = Sequential()\n",
        "network.add(Dense(10, input_dim=784, activation='relu'))\n",
        "network.add(Dense(10, activation='softmax'))\n",
        "network.compile(optimizer='rmsprop',\n",
        "                loss='categorical_crossentropy',\n",
        "                metrics=['accuracy'])"
      ],
      "execution_count": 15,
      "outputs": []
    },
    {
      "cell_type": "markdown",
      "metadata": {
        "id": "heHiGOm4YnQ5"
      },
      "source": [
        "The Sequential model is the easiest model Keras has. The first line of `model.add` method is adding your hidden layer with 10 cells, coming from 784 input cells.\n",
        "\n",
        "The second add method is adding your output layer to the network. This has 10 cells.\n",
        "\n",
        "The Relu and Softmax activation options are non-linear. Being able to use non-linear data makes Neural Network particularly useful. Generally, neural networks can map any data distribution at any level of complexity.\n",
        "You don’t have to know what Relu and Softmax are.  You just need to follow these tips:\n",
        "1. Use Relu whenever possible, on every hidden layer.\n",
        "2. Use Softmax on output layers with more than two categories to be predicted.\n",
        "3. Use Sigmoid on an output layer with two categories.\n",
        "\n",
        "After creating your model, call `compile` method to finish your model. It usually takes three parameters. Always use `categorical_crossentropy` for multi-categories, and `binary_crossentropy` for two categories. Use `adam` or `rmsprop` as the optimizer since both of them are pretty good. And you need accuracy as the `metric` to check your network performance."
      ]
    },
    {
      "cell_type": "markdown",
      "metadata": {
        "id": "uDuOwZeGYnQ5"
      },
      "source": [
        "We are now ready to train our network, which in Keras is done via a call to the `fit` method of the network: \n",
        "we \"fit\" the model to its training data.  We will use 10% of the training data as the validation data, hence validation_split was set to 0.1."
      ]
    },
    {
      "cell_type": "code",
      "metadata": {
        "colab": {
          "base_uri": "https://localhost:8080/"
        },
        "id": "ZysIUJTlYnQ5",
        "outputId": "466b3523-eb67-49f6-ec64-04f8b6ba1c83"
      },
      "source": [
        "history=network.fit(train_images, train_labels, epochs=20,  validation_split=0.1)"
      ],
      "execution_count": 16,
      "outputs": [
        {
          "output_type": "stream",
          "text": [
            "Epoch 1/20\n",
            "1688/1688 [==============================] - 3s 2ms/step - loss: 0.5527 - accuracy: 0.8429 - val_loss: 0.2697 - val_accuracy: 0.9260\n",
            "Epoch 2/20\n",
            "1688/1688 [==============================] - 2s 1ms/step - loss: 0.3083 - accuracy: 0.9128 - val_loss: 0.2389 - val_accuracy: 0.9315\n",
            "Epoch 3/20\n",
            "1688/1688 [==============================] - 2s 1ms/step - loss: 0.2869 - accuracy: 0.9183 - val_loss: 0.2361 - val_accuracy: 0.9328\n",
            "Epoch 4/20\n",
            "1688/1688 [==============================] - 2s 1ms/step - loss: 0.2761 - accuracy: 0.9216 - val_loss: 0.2302 - val_accuracy: 0.9363\n",
            "Epoch 5/20\n",
            "1688/1688 [==============================] - 2s 1ms/step - loss: 0.2698 - accuracy: 0.9247 - val_loss: 0.2234 - val_accuracy: 0.9395\n",
            "Epoch 6/20\n",
            "1688/1688 [==============================] - 2s 1ms/step - loss: 0.2646 - accuracy: 0.9264 - val_loss: 0.2252 - val_accuracy: 0.9372\n",
            "Epoch 7/20\n",
            "1688/1688 [==============================] - 3s 2ms/step - loss: 0.2596 - accuracy: 0.9273 - val_loss: 0.2331 - val_accuracy: 0.9327\n",
            "Epoch 8/20\n",
            "1688/1688 [==============================] - 3s 2ms/step - loss: 0.2564 - accuracy: 0.9281 - val_loss: 0.2193 - val_accuracy: 0.9380\n",
            "Epoch 9/20\n",
            "1688/1688 [==============================] - 2s 1ms/step - loss: 0.2522 - accuracy: 0.9300 - val_loss: 0.2204 - val_accuracy: 0.9378\n",
            "Epoch 10/20\n",
            "1688/1688 [==============================] - 2s 1ms/step - loss: 0.2485 - accuracy: 0.9306 - val_loss: 0.2154 - val_accuracy: 0.9392\n",
            "Epoch 11/20\n",
            "1688/1688 [==============================] - 2s 1ms/step - loss: 0.2455 - accuracy: 0.9313 - val_loss: 0.2167 - val_accuracy: 0.9390\n",
            "Epoch 12/20\n",
            "1688/1688 [==============================] - 2s 1ms/step - loss: 0.2420 - accuracy: 0.9329 - val_loss: 0.2192 - val_accuracy: 0.9377\n",
            "Epoch 13/20\n",
            "1688/1688 [==============================] - 2s 1ms/step - loss: 0.2397 - accuracy: 0.9325 - val_loss: 0.2169 - val_accuracy: 0.9382\n",
            "Epoch 14/20\n",
            "1688/1688 [==============================] - 2s 1ms/step - loss: 0.2368 - accuracy: 0.9335 - val_loss: 0.2132 - val_accuracy: 0.9418\n",
            "Epoch 15/20\n",
            "1688/1688 [==============================] - 2s 1ms/step - loss: 0.2352 - accuracy: 0.9347 - val_loss: 0.2149 - val_accuracy: 0.9423\n",
            "Epoch 16/20\n",
            "1688/1688 [==============================] - 2s 1ms/step - loss: 0.2333 - accuracy: 0.9351 - val_loss: 0.2132 - val_accuracy: 0.9420\n",
            "Epoch 17/20\n",
            "1688/1688 [==============================] - 2s 1ms/step - loss: 0.2316 - accuracy: 0.9355 - val_loss: 0.2175 - val_accuracy: 0.9427\n",
            "Epoch 18/20\n",
            "1688/1688 [==============================] - 2s 1ms/step - loss: 0.2293 - accuracy: 0.9356 - val_loss: 0.2134 - val_accuracy: 0.9427\n",
            "Epoch 19/20\n",
            "1688/1688 [==============================] - 2s 1ms/step - loss: 0.2279 - accuracy: 0.9366 - val_loss: 0.2111 - val_accuracy: 0.9422\n",
            "Epoch 20/20\n",
            "1688/1688 [==============================] - 2s 1ms/step - loss: 0.2258 - accuracy: 0.9379 - val_loss: 0.2087 - val_accuracy: 0.9432\n"
          ],
          "name": "stdout"
        }
      ]
    },
    {
      "cell_type": "markdown",
      "metadata": {
        "id": "iyTbS2-5YnQ5"
      },
      "source": [
        "Four quantities are being displayed during training: the \"loss\" of the network over the training and validation data, and the accuracy of the network over \n",
        "the training and validation data.\n",
        "\n",
        "`epoch` is the number of training loops we will do. One epoch will expose all of our training data once to the network. More epochs means the network will know better about our data.\n",
        "\n",
        "We can plot a history of training and validation loss and accuracy."
      ]
    },
    {
      "cell_type": "code",
      "metadata": {
        "colab": {
          "base_uri": "https://localhost:8080/",
          "height": 573
        },
        "id": "R4VLCPKIYnQ5",
        "outputId": "a25161b7-117f-4fbb-c497-e06a9759c6a2"
      },
      "source": [
        "plt.clf()   # clear figure\n",
        "\n",
        "loss = history.history['loss']\n",
        "val_loss = history.history['val_loss']\n",
        "\n",
        "epochs = range(1, len(loss) + 1)\n",
        "\n",
        "plt.plot(epochs, loss, 'bo', label='Training loss')\n",
        "plt.plot(epochs, val_loss, 'b', label='Validation loss')\n",
        "plt.title('Training and validation loss')\n",
        "plt.xlabel('Epochs')\n",
        "plt.ylabel('Loss')\n",
        "plt.legend()\n",
        "\n",
        "plt.show()\n",
        "\n",
        "acc = history.history['accuracy']\n",
        "val_acc = history.history['val_accuracy']\n",
        "epochs=range(1, len(acc)+1)\n",
        "\n",
        "plt.plot(epochs, acc, 'bo', label='Training acc')\n",
        "plt.plot(epochs, val_acc, 'b', label='Validation acc')\n",
        "plt.title('Training and validation accuracy')\n",
        "plt.xlabel('Epochs')\n",
        "plt.ylabel('Accuracy')\n",
        "plt.legend()\n",
        "\n",
        "plt.show()"
      ],
      "execution_count": 17,
      "outputs": [
        {
          "output_type": "display_data",
          "data": {
            "image/png": "[encoded data removed]",
            "text/plain": [
              "<Figure size 432x288 with 1 Axes>"
            ]
          },
          "metadata": {
            "tags": [],
            "needs_background": "light"
          }
        },
        {
          "output_type": "display_data",
          "data": {
            "image/png": "[encoded data removed]",
            "text/plain": [
              "<Figure size 432x288 with 1 Axes>"
            ]
          },
          "metadata": {
            "tags": [],
            "needs_background": "light"
          }
        }
      ]
    },
    {
      "cell_type": "markdown",
      "metadata": {
        "id": "tC4LaSx_YnQ5"
      },
      "source": [
        "\n",
        "The dots are the training loss and accuracy, while the solid lines are the validation loss and accuracy. *Note that your own results may vary \n",
        "slightly due to a different random initialization of your network.*\n",
        "\n",
        "As you can see, the training loss decreases with every epoch and the training accuracy increases with every epoch. That's what you would \n",
        "expect when running gradient descent optimization -- the quantity you are trying to minimize should get lower with every iteration. But that \n",
        "isn't the case for the validation loss and accuracy: they seem to peak at the eleventh epoch.  What you are seeing is **overfitting**: after the 11th epoch, we are over-optimizing on the training data, and we \n",
        "ended up learning representations that are specific to the training data and do not generalize to data outside of the training set.\n",
        "\n",
        "In this case, to prevent overfitting, we could simply stop training after 10 epochs.\n",
        "\n",
        "**Question 2.3 (2 points)**  Let's train a new network from scratch for 10 epochs. "
      ]
    },
    {
      "cell_type": "code",
      "metadata": {
        "colab": {
          "base_uri": "https://localhost:8080/"
        },
        "id": "RzM1t3jKYnQ5",
        "outputId": "c97a655b-add3-413b-f5c5-ab396f4812a0"
      },
      "source": [
        "### Put your code here ###\n",
        "\n",
        "network = Sequential()\n",
        "network.add(Dense(10, input_dim=784, activation='relu'))\n",
        "network.add(Dense(10, activation='softmax'))\n",
        "network.compile(optimizer='rmsprop',\n",
        "                loss='categorical_crossentropy',\n",
        "                metrics=['accuracy'])\n",
        "\n",
        "history=network.fit(train_images, train_labels, epochs=10,  validation_split=0.1)"
      ],
      "execution_count": 18,
      "outputs": [
        {
          "output_type": "stream",
          "text": [
            "Epoch 1/10\n",
            "1688/1688 [==============================] - 2s 1ms/step - loss: 0.5165 - accuracy: 0.8559 - val_loss: 0.2602 - val_accuracy: 0.9283\n",
            "Epoch 2/10\n",
            "1688/1688 [==============================] - 2s 1ms/step - loss: 0.3129 - accuracy: 0.9123 - val_loss: 0.2371 - val_accuracy: 0.9317\n",
            "Epoch 3/10\n",
            "1688/1688 [==============================] - 2s 1ms/step - loss: 0.2916 - accuracy: 0.9179 - val_loss: 0.2257 - val_accuracy: 0.9380\n",
            "Epoch 4/10\n",
            "1688/1688 [==============================] - 2s 1ms/step - loss: 0.2803 - accuracy: 0.9219 - val_loss: 0.2198 - val_accuracy: 0.9395\n",
            "Epoch 5/10\n",
            "1688/1688 [==============================] - 2s 1ms/step - loss: 0.2723 - accuracy: 0.9244 - val_loss: 0.2176 - val_accuracy: 0.9408\n",
            "Epoch 6/10\n",
            "1688/1688 [==============================] - 2s 1ms/step - loss: 0.2658 - accuracy: 0.9266 - val_loss: 0.2133 - val_accuracy: 0.9397\n",
            "Epoch 7/10\n",
            "1688/1688 [==============================] - 2s 1ms/step - loss: 0.2615 - accuracy: 0.9275 - val_loss: 0.2141 - val_accuracy: 0.9408\n",
            "Epoch 8/10\n",
            "1688/1688 [==============================] - 2s 1ms/step - loss: 0.2569 - accuracy: 0.9294 - val_loss: 0.2133 - val_accuracy: 0.9423\n",
            "Epoch 9/10\n",
            "1688/1688 [==============================] - 2s 1ms/step - loss: 0.2519 - accuracy: 0.9306 - val_loss: 0.2077 - val_accuracy: 0.9425\n",
            "Epoch 10/10\n",
            "1688/1688 [==============================] - 2s 1ms/step - loss: 0.2495 - accuracy: 0.9321 - val_loss: 0.2039 - val_accuracy: 0.9433\n"
          ],
          "name": "stdout"
        }
      ]
    },
    {
      "cell_type": "markdown",
      "metadata": {
        "id": "Qf7RNPs-YnQ6"
      },
      "source": [
        "We can now evaluate the result on our test data."
      ]
    },
    {
      "cell_type": "code",
      "metadata": {
        "colab": {
          "base_uri": "https://localhost:8080/"
        },
        "id": "q0Snz30DYnQ6",
        "outputId": "c184c820-c8bb-46a2-f7d1-f1efa1a779e8"
      },
      "source": [
        "test_loss, test_acc = network.evaluate(test_images, test_labels)\n",
        "print('test_acc:', test_acc)"
      ],
      "execution_count": 19,
      "outputs": [
        {
          "output_type": "stream",
          "text": [
            "313/313 [==============================] - 0s 1ms/step - loss: 0.2521 - accuracy: 0.9292\n",
            "test_acc: 0.9291999936103821\n"
          ],
          "name": "stdout"
        }
      ]
    },
    {
      "cell_type": "markdown",
      "metadata": {
        "id": "3jUwHpJ3YnQ6"
      },
      "source": [
        "**Question 2.4 (1 points)**  Run the code above. What is the testing accuracy?"
      ]
    },
    {
      "cell_type": "markdown",
      "metadata": {
        "id": "DeuoGq4KYnQ6"
      },
      "source": [
        "<font size=8 color=\"#009600\">&#9998;</font> The testing accuracy is 0.93, which is pretty accurate. "
      ]
    },
    {
      "cell_type": "markdown",
      "metadata": {
        "id": "3m2VDhOnYnQ6"
      },
      "source": [
        "\n",
        "This concludes our very first example -- you just saw how we could build and a train a neural network to classify handwritten digits, in \n",
        "less than 20 lines of Python code!"
      ]
    },
    {
      "cell_type": "markdown",
      "metadata": {
        "id": "1tPpVJ38YnQ6"
      },
      "source": [
        "## Part 3: Classifying Fashion-MNIST data (19 points)\n",
        "\n",
        "\n",
        "We will now work on another dataset called fashion MNIST. Fashion MNIST is a dataset of ten categories of clothing and accessories, in grayscales. \n",
        "\n",
        "\n",
        "<img src=\"https://miro.medium.com/max/1400/1*9yRVzjQpH7LW8QWGbKFKww.png\" width= 800><p style=\"text-align: right;\">"
      ]
    },
    {
      "cell_type": "markdown",
      "metadata": {
        "id": "y8j_UnOdYnQ6"
      },
      "source": [
        "**Question 3.1 (2 points)**   Load the Fashion-MNIST dataset. *Hint: Keras has this dataset preloaded. Look at the import at the beginning of this notebook*"
      ]
    },
    {
      "cell_type": "code",
      "metadata": {
        "id": "e8AzCtYUYnQ6"
      },
      "source": [
        "### Put your code here ###\n",
        "\n",
        "# beginning of notebook had \"from tensorflow.keras.datasets import fashion_mnist\"\n",
        "\n",
        "(train_im, train_lab), (test_im, test_lab) = fashion_mnist.load_data()\n"
      ],
      "execution_count": 22,
      "outputs": []
    },
    {
      "cell_type": "markdown",
      "metadata": {
        "id": "0k36kyRPYnQ6"
      },
      "source": [
        "**Question 3.2 (3 points)** Explore the data. Find the size of the training and testing dataset. How many categories are in the labels?"
      ]
    },
    {
      "cell_type": "code",
      "metadata": {
        "colab": {
          "base_uri": "https://localhost:8080/"
        },
        "id": "xplMNdlWYnQ6",
        "outputId": "e629d857-f1ca-4725-aeab-2646faaec147"
      },
      "source": [
        "### Put your code here ###\n",
        "print(train_im.shape)\n",
        "print(len(train_lab))\n",
        "\n",
        "print(test_im.shape)\n",
        "print(len(test_lab))\n"
      ],
      "execution_count": 23,
      "outputs": [
        {
          "output_type": "stream",
          "text": [
            "(60000, 28, 28)\n",
            "60000\n",
            "(10000, 28, 28)\n",
            "10000\n"
          ],
          "name": "stdout"
        }
      ]
    },
    {
      "cell_type": "markdown",
      "metadata": {
        "id": "pfPYnZVIm1j0"
      },
      "source": [
        "The training dataset is 60,000 entries of 28x28 images, and the testing dataset is 10,000 entries of 28x28 images."
      ]
    },
    {
      "cell_type": "markdown",
      "metadata": {
        "id": "HB__TJWTYnQ6"
      },
      "source": [
        "**Question 3.3 (2 points)** Plot the first couple of images in the training set and their labels. What do you observe?"
      ]
    },
    {
      "cell_type": "code",
      "metadata": {
        "colab": {
          "base_uri": "https://localhost:8080/",
          "height": 282
        },
        "id": "8h9tUmfJYnQ6",
        "outputId": "41ff3d15-f040-4b53-ec38-898ab976f627"
      },
      "source": [
        "### Put your code here ###\n",
        "shirt = train_im[1]\n",
        "plt.imshow(shirt, cmap = plt.cm.binary)"
      ],
      "execution_count": 27,
      "outputs": [
        {
          "output_type": "execute_result",
          "data": {
            "text/plain": [
              "<matplotlib.image.AxesImage at 0x7fde7d426668>"
            ]
          },
          "metadata": {
            "tags": []
          },
          "execution_count": 27
        },
        {
          "output_type": "display_data",
          "data": {
            "image/png": "[encoded data removed]",
            "text/plain": [
              "<Figure size 432x288 with 1 Axes>"
            ]
          },
          "metadata": {
            "tags": [],
            "needs_background": "light"
          }
        }
      ]
    },
    {
      "cell_type": "code",
      "metadata": {
        "colab": {
          "base_uri": "https://localhost:8080/",
          "height": 282
        },
        "id": "v05f2XvfnW9x",
        "outputId": "c8aa48aa-d5e7-45e5-a2bb-686278e938ec"
      },
      "source": [
        "pants = train_im[2]\n",
        "plt.imshow(pants, cmap = plt.cm.binary)"
      ],
      "execution_count": 35,
      "outputs": [
        {
          "output_type": "execute_result",
          "data": {
            "text/plain": [
              "<matplotlib.image.AxesImage at 0x7fde8913cf98>"
            ]
          },
          "metadata": {
            "tags": []
          },
          "execution_count": 35
        },
        {
          "output_type": "display_data",
          "data": {
            "image/png": "[encoded data removed]",
            "text/plain": [
              "<Figure size 432x288 with 1 Axes>"
            ]
          },
          "metadata": {
            "tags": [],
            "needs_background": "light"
          }
        }
      ]
    },
    {
      "cell_type": "markdown",
      "metadata": {
        "id": "mHsFLrjuYnQ6"
      },
      "source": [
        "**Question 3.4 (2 points)** Now following the previous example of MNIST, reshape the dataset and categorically encode the labels."
      ]
    },
    {
      "cell_type": "code",
      "metadata": {
        "id": "4N8dopxEYnQ6"
      },
      "source": [
        "### Put your code here ###\n",
        "train_im = train_im.reshape(train_im.shape[0], -1)/255.0\n",
        "test_im = test_im.reshape(test_im.shape[0], -1)/255.0\n",
        "\n",
        "train_lab = to_categorical(train_lab)\n",
        "test_lab = to_categorical(test_lab)"
      ],
      "execution_count": 36,
      "outputs": []
    },
    {
      "cell_type": "markdown",
      "metadata": {
        "id": "rxrLW7ukYnQ6"
      },
      "source": [
        "**Question 3.5 (5 points)** Build the network. Use the **same** network architecture and parameters as the MNIST example, and train with 10 epochs. What is the accuracy you see for this dataset? Do you observe overfitting during this training?"
      ]
    },
    {
      "cell_type": "code",
      "metadata": {
        "colab": {
          "base_uri": "https://localhost:8080/",
          "height": 662
        },
        "id": "CEsIqWbkYnQ6",
        "outputId": "ccdf47c6-0450-488c-9dcb-71c4c195a6de"
      },
      "source": [
        "### Put your code here ###\n",
        "network = Sequential()\n",
        "network.add(Dense(10, input_dim=784, activation='relu'))\n",
        "network.add(Dense(10, activation='softmax'))\n",
        "network.compile(optimizer='rmsprop',\n",
        "                loss='categorical_crossentropy',\n",
        "                metrics=['accuracy'])\n",
        "history=network.fit(train_im, train_lab, epochs=10,  validation_split=0.1)\n",
        "\n",
        "acc = history.history['accuracy']\n",
        "val_acc = history.history['val_accuracy']\n",
        "epochs=range(1, len(acc)+1)\n",
        "\n",
        "plt.plot(epochs, acc, 'bo', label='Training acc')\n",
        "plt.plot(epochs, val_acc, 'b', label='Validation acc')\n",
        "plt.title('Training and validation accuracy')\n",
        "plt.xlabel('Epochs')\n",
        "plt.ylabel('Accuracy')\n",
        "plt.legend()\n",
        "\n",
        "plt.show()\n",
        "\n",
        "test_loss, test_acc = network.evaluate(test_im, test_lab)\n",
        "print('test_acc:', test_acc)"
      ],
      "execution_count": 39,
      "outputs": [
        {
          "output_type": "stream",
          "text": [
            "Epoch 1/10\n",
            "1688/1688 [==============================] - 2s 1ms/step - loss: 0.6689 - accuracy: 0.7747 - val_loss: 0.5123 - val_accuracy: 0.8190\n",
            "Epoch 2/10\n",
            "1688/1688 [==============================] - 2s 1ms/step - loss: 0.4831 - accuracy: 0.8331 - val_loss: 0.5455 - val_accuracy: 0.8060\n",
            "Epoch 3/10\n",
            "1688/1688 [==============================] - 2s 1ms/step - loss: 0.4556 - accuracy: 0.8426 - val_loss: 0.4392 - val_accuracy: 0.8497\n",
            "Epoch 4/10\n",
            "1688/1688 [==============================] - 2s 1ms/step - loss: 0.4393 - accuracy: 0.8485 - val_loss: 0.4425 - val_accuracy: 0.8468\n",
            "Epoch 5/10\n",
            "1688/1688 [==============================] - 2s 1ms/step - loss: 0.4278 - accuracy: 0.8540 - val_loss: 0.4526 - val_accuracy: 0.8443\n",
            "Epoch 6/10\n",
            "1688/1688 [==============================] - 2s 1ms/step - loss: 0.4209 - accuracy: 0.8546 - val_loss: 0.4565 - val_accuracy: 0.8442\n",
            "Epoch 7/10\n",
            "1688/1688 [==============================] - 2s 1ms/step - loss: 0.4150 - accuracy: 0.8563 - val_loss: 0.4538 - val_accuracy: 0.8393\n",
            "Epoch 8/10\n",
            "1688/1688 [==============================] - 2s 1ms/step - loss: 0.4084 - accuracy: 0.8601 - val_loss: 0.4383 - val_accuracy: 0.8523\n",
            "Epoch 9/10\n",
            "1688/1688 [==============================] - 2s 1ms/step - loss: 0.4015 - accuracy: 0.8618 - val_loss: 0.4312 - val_accuracy: 0.8547\n",
            "Epoch 10/10\n",
            "1688/1688 [==============================] - 2s 1ms/step - loss: 0.3941 - accuracy: 0.8629 - val_loss: 0.4222 - val_accuracy: 0.8562\n"
          ],
          "name": "stdout"
        },
        {
          "output_type": "display_data",
          "data": {
            "image/png": "[encoded data removed]",
            "text/plain": [
              "<Figure size 432x288 with 1 Axes>"
            ]
          },
          "metadata": {
            "tags": [],
            "needs_background": "light"
          }
        },
        {
          "output_type": "stream",
          "text": [
            "313/313 [==============================] - 0s 1ms/step - loss: 0.4519 - accuracy: 0.8463\n",
            "test_acc: 0.8463000059127808\n"
          ],
          "name": "stdout"
        }
      ]
    },
    {
      "cell_type": "markdown",
      "metadata": {
        "id": "OjnXpnZ7otkF"
      },
      "source": [
        "There is not as much over fitting as the previous model when using 10 epochs, which makes sense because clothes data is more complex than handwriting. "
      ]
    },
    {
      "cell_type": "markdown",
      "metadata": {
        "id": "bZ97VgSmYnQ6"
      },
      "source": [
        "You should have got a decent accuracy out of this dataset too, but not as high as the accuracy from the MNIST dataset, because the images here are more complicated. Now to improve the accuracy, you can try to widen/deepend the feedforward neural network. You are encouraged to look at the previous example and search on the internet on how to do that. As long as you see some improvement, it will be fine.\n",
        "\n",
        "**Question 3.6 (5 points)** Try changing the network architecture (deepen/widen the network) to improve the accuracy. What changes did you make? What accuracy did you get this time?"
      ]
    },
    {
      "cell_type": "code",
      "metadata": {
        "colab": {
          "base_uri": "https://localhost:8080/",
          "height": 662
        },
        "id": "WOo1gP8uYnQ6",
        "outputId": "b69b6ae5-57a7-411d-a9c5-857448b9c9f1"
      },
      "source": [
        "### Put your code here ###\n",
        "network = Sequential()\n",
        "network.add(Dense(20, input_dim=784, activation='relu')) #changed 10 to 20 to widen the network\n",
        "network.add(Dense(10, activation='softmax'))\n",
        "network.compile(optimizer='rmsprop',\n",
        "                loss='categorical_crossentropy',\n",
        "                metrics=['accuracy'])\n",
        "history=network.fit(train_im, train_lab, epochs=10,  validation_split=0.1)\n",
        "\n",
        "acc = history.history['accuracy']\n",
        "val_acc = history.history['val_accuracy']\n",
        "epochs=range(1, len(acc)+1)\n",
        "\n",
        "plt.plot(epochs, acc, 'bo', label='Training acc')\n",
        "plt.plot(epochs, val_acc, 'b', label='Validation acc')\n",
        "plt.title('Training and validation accuracy')\n",
        "plt.xlabel('Epochs')\n",
        "plt.ylabel('Accuracy')\n",
        "plt.legend()\n",
        "\n",
        "plt.show()\n",
        "\n",
        "test_loss, test_acc = network.evaluate(test_im, test_lab)\n",
        "print('test_acc:', test_acc) #accuracy improved by 0.02 (from 0.84 to 0.86)"
      ],
      "execution_count": 40,
      "outputs": [
        {
          "output_type": "stream",
          "text": [
            "Epoch 1/10\n",
            "1688/1688 [==============================] - 3s 2ms/step - loss: 0.5976 - accuracy: 0.7951 - val_loss: 0.4711 - val_accuracy: 0.8350\n",
            "Epoch 2/10\n",
            "1688/1688 [==============================] - 3s 2ms/step - loss: 0.4404 - accuracy: 0.8457 - val_loss: 0.4190 - val_accuracy: 0.8485\n",
            "Epoch 3/10\n",
            "1688/1688 [==============================] - 3s 2ms/step - loss: 0.4093 - accuracy: 0.8564 - val_loss: 0.4219 - val_accuracy: 0.8447\n",
            "Epoch 4/10\n",
            "1688/1688 [==============================] - 2s 1ms/step - loss: 0.3902 - accuracy: 0.8625 - val_loss: 0.4042 - val_accuracy: 0.8622\n",
            "Epoch 5/10\n",
            "1688/1688 [==============================] - 3s 1ms/step - loss: 0.3772 - accuracy: 0.8680 - val_loss: 0.4385 - val_accuracy: 0.8465\n",
            "Epoch 6/10\n",
            "1688/1688 [==============================] - 2s 1ms/step - loss: 0.3676 - accuracy: 0.8708 - val_loss: 0.4015 - val_accuracy: 0.8602\n",
            "Epoch 7/10\n",
            "1688/1688 [==============================] - 2s 1ms/step - loss: 0.3615 - accuracy: 0.8724 - val_loss: 0.3993 - val_accuracy: 0.8617\n",
            "Epoch 8/10\n",
            "1688/1688 [==============================] - 2s 1ms/step - loss: 0.3542 - accuracy: 0.8740 - val_loss: 0.4090 - val_accuracy: 0.8593\n",
            "Epoch 9/10\n",
            "1688/1688 [==============================] - 2s 1ms/step - loss: 0.3502 - accuracy: 0.8759 - val_loss: 0.4104 - val_accuracy: 0.8613\n",
            "Epoch 10/10\n",
            "1688/1688 [==============================] - 2s 1ms/step - loss: 0.3442 - accuracy: 0.8786 - val_loss: 0.3958 - val_accuracy: 0.8660\n"
          ],
          "name": "stdout"
        },
        {
          "output_type": "display_data",
          "data": {
            "image/png": "[encoded data removed]",
            "text/plain": [
              "<Figure size 432x288 with 1 Axes>"
            ]
          },
          "metadata": {
            "tags": [],
            "needs_background": "light"
          }
        },
        {
          "output_type": "stream",
          "text": [
            "313/313 [==============================] - 0s 1ms/step - loss: 0.4186 - accuracy: 0.8600\n",
            "test_acc: 0.8600000143051147\n"
          ],
          "name": "stdout"
        }
      ]
    },
    {
      "cell_type": "code",
      "metadata": {
        "colab": {
          "base_uri": "https://localhost:8080/",
          "height": 995
        },
        "id": "xsDMARl6p_zn",
        "outputId": "440990b9-5f2f-4600-d6e4-546752834465"
      },
      "source": [
        "network = Sequential()\n",
        "network.add(Dense(20, input_dim=784, activation='relu')) #changed 10 to 20 to widen the network\n",
        "network.add(Dense(10, activation='softmax')) \n",
        "network.compile(optimizer='rmsprop',\n",
        "                loss='categorical_crossentropy',\n",
        "                metrics=['accuracy'])\n",
        "history=network.fit(train_im, train_lab, epochs=20,  validation_split=0.1) #changed from 10 to 15 epochs\n",
        "\n",
        "acc = history.history['accuracy']\n",
        "val_acc = history.history['val_accuracy']\n",
        "epochs=range(1, len(acc)+1)\n",
        "\n",
        "plt.plot(epochs, acc, 'bo', label='Training acc')\n",
        "plt.plot(epochs, val_acc, 'b', label='Validation acc')\n",
        "plt.title('Training and validation accuracy')\n",
        "plt.xlabel('Epochs')\n",
        "plt.ylabel('Accuracy')\n",
        "plt.legend()\n",
        "\n",
        "plt.show()\n",
        "\n",
        "test_loss, test_acc = network.evaluate(test_im, test_lab)\n",
        "print('test_acc:', test_acc) #accuracy didn't change"
      ],
      "execution_count": 43,
      "outputs": [
        {
          "output_type": "stream",
          "text": [
            "Epoch 1/20\n",
            "1688/1688 [==============================] - 3s 2ms/step - loss: 0.5852 - accuracy: 0.7980 - val_loss: 0.4587 - val_accuracy: 0.8387\n",
            "Epoch 2/20\n",
            "1688/1688 [==============================] - 2s 1ms/step - loss: 0.4365 - accuracy: 0.8460 - val_loss: 0.4186 - val_accuracy: 0.8522\n",
            "Epoch 3/20\n",
            "1688/1688 [==============================] - 2s 1ms/step - loss: 0.4043 - accuracy: 0.8568 - val_loss: 0.4580 - val_accuracy: 0.8383\n",
            "Epoch 4/20\n",
            "1688/1688 [==============================] - 2s 1ms/step - loss: 0.3868 - accuracy: 0.8628 - val_loss: 0.4117 - val_accuracy: 0.8555\n",
            "Epoch 5/20\n",
            "1688/1688 [==============================] - 3s 1ms/step - loss: 0.3751 - accuracy: 0.8663 - val_loss: 0.3941 - val_accuracy: 0.8613\n",
            "Epoch 6/20\n",
            "1688/1688 [==============================] - 2s 1ms/step - loss: 0.3642 - accuracy: 0.8715 - val_loss: 0.3974 - val_accuracy: 0.8603\n",
            "Epoch 7/20\n",
            "1688/1688 [==============================] - 2s 1ms/step - loss: 0.3571 - accuracy: 0.8715 - val_loss: 0.3829 - val_accuracy: 0.8672\n",
            "Epoch 8/20\n",
            "1688/1688 [==============================] - 2s 1ms/step - loss: 0.3507 - accuracy: 0.8765 - val_loss: 0.3874 - val_accuracy: 0.8672\n",
            "Epoch 9/20\n",
            "1688/1688 [==============================] - 2s 1ms/step - loss: 0.3453 - accuracy: 0.8775 - val_loss: 0.3941 - val_accuracy: 0.8662\n",
            "Epoch 10/20\n",
            "1688/1688 [==============================] - 3s 2ms/step - loss: 0.3402 - accuracy: 0.8798 - val_loss: 0.3966 - val_accuracy: 0.8677\n",
            "Epoch 11/20\n",
            "1688/1688 [==============================] - 2s 1ms/step - loss: 0.3380 - accuracy: 0.8806 - val_loss: 0.4009 - val_accuracy: 0.8662\n",
            "Epoch 12/20\n",
            "1688/1688 [==============================] - 2s 1ms/step - loss: 0.3327 - accuracy: 0.8821 - val_loss: 0.3935 - val_accuracy: 0.8735\n",
            "Epoch 13/20\n",
            "1688/1688 [==============================] - 2s 1ms/step - loss: 0.3292 - accuracy: 0.8843 - val_loss: 0.4712 - val_accuracy: 0.8460\n",
            "Epoch 14/20\n",
            "1688/1688 [==============================] - 2s 1ms/step - loss: 0.3264 - accuracy: 0.8855 - val_loss: 0.4486 - val_accuracy: 0.8585\n",
            "Epoch 15/20\n",
            "1688/1688 [==============================] - 2s 1ms/step - loss: 0.3237 - accuracy: 0.8853 - val_loss: 0.4407 - val_accuracy: 0.8655\n",
            "Epoch 16/20\n",
            "1688/1688 [==============================] - 2s 1ms/step - loss: 0.3196 - accuracy: 0.8876 - val_loss: 0.4065 - val_accuracy: 0.8745\n",
            "Epoch 17/20\n",
            "1688/1688 [==============================] - 3s 2ms/step - loss: 0.3180 - accuracy: 0.8890 - val_loss: 0.4230 - val_accuracy: 0.8700\n",
            "Epoch 18/20\n",
            "1688/1688 [==============================] - 3s 2ms/step - loss: 0.3159 - accuracy: 0.8886 - val_loss: 0.4228 - val_accuracy: 0.8677\n",
            "Epoch 19/20\n",
            "1688/1688 [==============================] - 3s 2ms/step - loss: 0.3147 - accuracy: 0.8900 - val_loss: 0.4237 - val_accuracy: 0.8698\n",
            "Epoch 20/20\n",
            "1688/1688 [==============================] - 3s 2ms/step - loss: 0.3123 - accuracy: 0.8903 - val_loss: 0.4398 - val_accuracy: 0.8688\n"
          ],
          "name": "stdout"
        },
        {
          "output_type": "display_data",
          "data": {
            "image/png": "[encoded data removed]",
            "text/plain": [
              "<Figure size 432x288 with 1 Axes>"
            ]
          },
          "metadata": {
            "tags": [],
            "needs_background": "light"
          }
        },
        {
          "output_type": "stream",
          "text": [
            "313/313 [==============================] - 0s 1ms/step - loss: 0.4376 - accuracy: 0.8595\n",
            "test_acc: 0.859499990940094\n"
          ],
          "name": "stdout"
        }
      ]
    },
    {
      "cell_type": "markdown",
      "metadata": {
        "id": "g7AxxEDhYnQ6"
      },
      "source": [
        "Congratulations! You have learned about the basics of the Tensorflow package, which is a powerful tool for machine learning. There are tons of on-line resources about Tensorflow. You are encouraged to check them out when you have time."
      ]
    },
    {
      "cell_type": "markdown",
      "metadata": {
        "id": "fCqUquvVYnQ6"
      },
      "source": [
        "---\n",
        "### Assignment wrap-up\n",
        "\n",
        "Please fill out the form that appears when you run the code below.  **You must completely fill this out in order to receive credit for the assignment!**"
      ]
    },
    {
      "cell_type": "code",
      "metadata": {
        "colab": {
          "base_uri": "https://localhost:8080/",
          "height": 621
        },
        "id": "X5WTioESYnQ6",
        "outputId": "db5f9bb0-6708-4598-91f0-b2638ca9a5c8"
      },
      "source": [
        "from IPython.display import HTML\n",
        "HTML(\n",
        "\"\"\"\n",
        "<iframe \n",
        "\tsrc=\"https://docs.google.com/forms/d/e/1FAIpQLSf_RV7__hgMU1AEQXzWmKFZPMu_BmOppmTNA-rPkh3hQ40czA/viewform?usp=sf_link\" \n",
        "\twidth=\"800px\" \n",
        "\theight=\"600px\" \n",
        "\tframeborder=\"0\" \n",
        "\tmarginheight=\"0\" \n",
        "\tmarginwidth=\"0\">\n",
        "\tLoading...\n",
        "</iframe>\n",
        "\"\"\"\n",
        ")"
      ],
      "execution_count": 44,
      "outputs": [
        {
          "output_type": "execute_result",
          "data": {
            "text/html": [
              "\n",
              "<iframe \n",
              "\tsrc=\"https://docs.google.com/forms/d/e/1FAIpQLSf_RV7__hgMU1AEQXzWmKFZPMu_BmOppmTNA-rPkh3hQ40czA/viewform?usp=sf_link\" \n",
              "\twidth=\"800px\" \n",
              "\theight=\"600px\" \n",
              "\tframeborder=\"0\" \n",
              "\tmarginheight=\"0\" \n",
              "\tmarginwidth=\"0\">\n",
              "\tLoading...\n",
              "</iframe>\n"
            ],
            "text/plain": [
              "<IPython.core.display.HTML object>"
            ]
          },
          "metadata": {
            "tags": []
          },
          "execution_count": 44
        }
      ]
    },
    {
      "cell_type": "markdown",
      "metadata": {
        "id": "BdZJkBaaYnQ6"
      },
      "source": [
        "### Congratulations, you're done!\n",
        "\n",
        "Submit this assignment by uploading it to the course Desire2Learn web page.  Go to the \"Homework Assignments\" folder, find the dropbox link for Homework #5, and upload your notebook **and the script you wrote**."
      ]
    },
    {
      "cell_type": "code",
      "metadata": {
        "id": "qcph8zSqYnQ6"
      },
      "source": [
        ""
      ],
      "execution_count": null,
      "outputs": []
    }
  ]
}